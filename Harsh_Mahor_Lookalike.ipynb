{
  "nbformat": 4,
  "nbformat_minor": 0,
  "metadata": {
    "colab": {
      "provenance": []
    },
    "kernelspec": {
      "name": "python3",
      "display_name": "Python 3"
    },
    "language_info": {
      "name": "python"
    }
  },
  "cells": [
    {
      "cell_type": "markdown",
      "source": [
        "# **Task 2: Lookalike Model**"
      ],
      "metadata": {
        "id": "ehAs_HNc_psC"
      }
    },
    {
      "cell_type": "markdown",
      "source": [
        "\n",
        "\n",
        "---\n",
        "\n"
      ],
      "metadata": {
        "id": "3MNNO9vqktrH"
      }
    },
    {
      "cell_type": "code",
      "source": [
        "from google.colab import drive\n",
        "drive.mount('/content/drive')"
      ],
      "metadata": {
        "colab": {
          "base_uri": "https://localhost:8080/"
        },
        "id": "n7dOS-Yl4SJR",
        "outputId": "14f69e67-a071-468d-caaa-69f6f730b31c"
      },
      "execution_count": 65,
      "outputs": [
        {
          "output_type": "stream",
          "name": "stdout",
          "text": [
            "Drive already mounted at /content/drive; to attempt to forcibly remount, call drive.mount(\"/content/drive\", force_remount=True).\n"
          ]
        }
      ]
    },
    {
      "cell_type": "markdown",
      "source": [
        "\n",
        "\n",
        "---\n",
        "\n"
      ],
      "metadata": {
        "id": "suOfiZOgkvyh"
      }
    },
    {
      "cell_type": "markdown",
      "source": [
        "### Import Required Libraries"
      ],
      "metadata": {
        "id": "CLvxOzVc_5Ve"
      }
    },
    {
      "cell_type": "code",
      "execution_count": 66,
      "metadata": {
        "id": "g9zewX1B4EdT"
      },
      "outputs": [],
      "source": [
        "# Import all the required libraries\n",
        "\n",
        "import pandas as pd\n",
        "from sklearn.preprocessing import MinMaxScaler\n",
        "from sklearn.metrics.pairwise import cosine_similarity\n"
      ]
    },
    {
      "cell_type": "markdown",
      "source": [
        "\n",
        "\n",
        "---\n",
        "\n"
      ],
      "metadata": {
        "id": "XNUV1sGZkrpJ"
      }
    },
    {
      "cell_type": "markdown",
      "source": [
        "### Dataset Loading"
      ],
      "metadata": {
        "id": "_k1mp9ru__U3"
      }
    },
    {
      "cell_type": "code",
      "source": [
        "# Load the Dataset\n",
        "customers = pd.read_csv(\"/content/drive/MyDrive/ZEOTAP/Customers.csv\")\n",
        "products = pd.read_csv(\"/content/drive/MyDrive/ZEOTAP/Products (2).csv\")\n",
        "transactions = pd.read_csv(\"/content/drive/MyDrive/ZEOTAP/Transactions.csv\")\n"
      ],
      "metadata": {
        "id": "SX43GA--4bfx"
      },
      "execution_count": 67,
      "outputs": []
    },
    {
      "cell_type": "markdown",
      "source": [
        "\n",
        "\n",
        "---\n",
        "\n"
      ],
      "metadata": {
        "id": "fW149eyqkp-L"
      }
    },
    {
      "cell_type": "markdown",
      "source": [
        "### Data Pre-processing"
      ],
      "metadata": {
        "id": "k65voDfDICLT"
      }
    },
    {
      "cell_type": "code",
      "source": [
        "# Merge transaction data with product and customer data using ProductID and CustomerID columns\n",
        "\n",
        "data = transactions.merge(products, on=\"ProductID\").merge(customers, on=\"CustomerID\")\n"
      ],
      "metadata": {
        "id": "DRqwSfA78c5i"
      },
      "execution_count": 68,
      "outputs": []
    },
    {
      "cell_type": "code",
      "source": [
        "# Convert 'TransactionDate' to datetime format\n",
        "data['TransactionDate'] = pd.to_datetime(data['TransactionDate'])\n",
        "\n",
        "# Aggregate data to create customer features\n",
        "customer_features = data.groupby(\"CustomerID\").agg({\n",
        "    \"TotalValue\": \"sum\",  # Total spending\n",
        "    \"Category\": lambda x: x.value_counts().index[0],  # Most purchased category\n",
        "    \"TransactionDate\": lambda x: (pd.Timestamp.now() - x.max()).days  # Frequency of Transactions\n",
        "}).reset_index()\n",
        "\n",
        "# Rename 'TransactionDate' column to 'TransactionFreq'\n",
        "customer_features.rename(columns={\"TransactionDate\": \"TransactionFreq\"}, inplace=True)\n",
        "\n",
        "# Normalize numeric features\n",
        "scaler = MinMaxScaler()\n",
        "customer_features[[\"TotalValue\", \"TransactionFreq\"]] = scaler.fit_transform(customer_features[[\"TotalValue\", \"TransactionFreq\"]])\n",
        "\n",
        "# One-hot encode the 'Category' feature\n",
        "customer_features = pd.get_dummies(customer_features, columns=[\"Category\"], drop_first=True)\n"
      ],
      "metadata": {
        "id": "FVMVrYPE8gad"
      },
      "execution_count": 69,
      "outputs": []
    },
    {
      "cell_type": "markdown",
      "source": [
        "\n",
        "\n",
        "---\n",
        "\n"
      ],
      "metadata": {
        "id": "QEzcxYxgkn5f"
      }
    },
    {
      "cell_type": "markdown",
      "source": [
        "### Model Design"
      ],
      "metadata": {
        "id": "F2YThUTPIXfc"
      }
    },
    {
      "cell_type": "code",
      "source": [
        "# Drop 'CustomerID' to focus only on numeric features\n",
        "feature_matrix = customer_features.drop(columns=[\"CustomerID\"])\n",
        "\n",
        "# Calculate pairwise cosine similarity\n",
        "similarity_matrix = cosine_similarity(feature_matrix)\n",
        "\n",
        "# Convert similarity matrix to a DataFrame\n",
        "similarity_df = pd.DataFrame(similarity_matrix, index=customer_features[\"CustomerID\"], columns=customer_features[\"CustomerID\"])\n"
      ],
      "metadata": {
        "id": "9pz86PeT8mTq"
      },
      "execution_count": 70,
      "outputs": []
    },
    {
      "cell_type": "code",
      "source": [
        "# Generate Lookalike Recommendations\n",
        "lookalikes = {}\n",
        "top_similarity_scores = []\n",
        "\n",
        "# Loop through the first 20 customers to find their top 3 similar customers\n",
        "for customer_id in customer_features[\"CustomerID\"][:20]:\n",
        "    similar_customers = similarity_df[customer_id].sort_values(ascending=False)[1:4]  # Top 3 similar customers\n",
        "    recommendations = [{\"cust_id\": idx, \"score\": round(score, 2)} for idx, score in similar_customers.items()]\n",
        "\n",
        "    lookalikes[customer_id] = recommendations\n",
        "\n",
        "    top_similarity_scores.extend([rec[\"score\"] for rec in recommendations])\n"
      ],
      "metadata": {
        "id": "expkqi058qiw"
      },
      "execution_count": 71,
      "outputs": []
    },
    {
      "cell_type": "markdown",
      "source": [
        "\n",
        "\n",
        "---\n",
        "\n"
      ],
      "metadata": {
        "id": "RwUUVi8Xkm7r"
      }
    },
    {
      "cell_type": "markdown",
      "source": [
        "### Create and store the Lookalike Data in a CSV file"
      ],
      "metadata": {
        "id": "THalacYTAPGB"
      }
    },
    {
      "cell_type": "code",
      "source": [
        "lookalike_df = pd.DataFrame({\"cust_id\": lookalikes.keys(), \"lookalikes\": lookalikes.values()})\n",
        "lookalike_df.to_csv(\"Harsh_Mahor_Lookalike.csv\", index=False)\n"
      ],
      "metadata": {
        "id": "JeLHzaSY8tpZ"
      },
      "execution_count": 72,
      "outputs": []
    },
    {
      "cell_type": "markdown",
      "source": [
        "\n",
        "\n",
        "---\n",
        "\n"
      ],
      "metadata": {
        "id": "dJMwvHn3kmG0"
      }
    },
    {
      "cell_type": "markdown",
      "source": [
        "### Model Accuracy"
      ],
      "metadata": {
        "id": "crDRe1FqAKaX"
      }
    },
    {
      "cell_type": "code",
      "source": [
        "# Model Accuracy using Mean Similarity Score\n",
        "average_similarity_score = (sum(top_similarity_scores) / len(top_similarity_scores))*100\n",
        "\n",
        "print(\"---------------------------------------------\")\n",
        "print(f\"Model Accuracy (Mean Similarity Score): {average_similarity_score:.2f}\")\n",
        "print(\"---------------------------------------------\")\n"
      ],
      "metadata": {
        "colab": {
          "base_uri": "https://localhost:8080/"
        },
        "id": "WGCM8Occ6pAA",
        "outputId": "c04ee443-dec3-4024-a0e6-45f6f859a85b"
      },
      "execution_count": 73,
      "outputs": [
        {
          "output_type": "stream",
          "name": "stdout",
          "text": [
            "---------------------------------------------\n",
            "Model Accuracy (Mean Similarity Score): 99.72\n",
            "---------------------------------------------\n"
          ]
        }
      ]
    },
    {
      "cell_type": "markdown",
      "source": [
        "**The Lookalike Model has achieved a Mean Similarity Score of 99.72, meaning it can effectively recommend customers with similar features to the given user information.**"
      ],
      "metadata": {
        "id": "MNBaKsjzk8ci"
      }
    },
    {
      "cell_type": "markdown",
      "source": [
        "\n",
        "\n",
        "---\n",
        "\n"
      ],
      "metadata": {
        "id": "BbojAnYmklJT"
      }
    },
    {
      "cell_type": "markdown",
      "source": [
        "### Model Testing"
      ],
      "metadata": {
        "id": "-AuzU74-DU1s"
      }
    },
    {
      "cell_type": "code",
      "source": [
        "# Function to Get Similar Customers\n",
        "def get_similar_customers(customer_id):\n",
        "    if customer_id not in similarity_df.index:\n",
        "        return f\"CustomerID {customer_id} not found!\"\n",
        "\n",
        "    # Top 3 similar customers\n",
        "    similar_customers = similarity_df[customer_id].sort_values(ascending=False)[1:4]\n",
        "    result = [{\"cust_id\": idx, \"score\": round(score, 2)} for idx, score in similar_customers.items()]\n",
        "    return result\n"
      ],
      "metadata": {
        "id": "tZPy6ztdBtUA"
      },
      "execution_count": 74,
      "outputs": []
    },
    {
      "cell_type": "code",
      "source": [
        "user_input = input(\"Enter CustomerID to find similar customers: \").strip()\n",
        "\n",
        "# Generate Top 3 Customers\n",
        "recommendations = get_similar_customers(user_input)\n",
        "print(\"----------------------------------------------\")\n",
        "print(f\"Top 3 similar customers for CustomerID {user_input}:\")\n",
        "print(\"----------------------------------------------\")\n",
        "for rec in recommendations:\n",
        "    print(f\"CustomerID: {rec['cust_id']}, Similarity Score: {rec['score']}\")"
      ],
      "metadata": {
        "colab": {
          "base_uri": "https://localhost:8080/"
        },
        "id": "yh2EVnvKC0Tc",
        "outputId": "1e86828e-727b-46f1-87fd-76256b957d5c"
      },
      "execution_count": 75,
      "outputs": [
        {
          "output_type": "stream",
          "name": "stdout",
          "text": [
            "Enter CustomerID to find similar customers: C0072\n",
            "----------------------------------------------\n",
            "Top 3 similar customers for CustomerID C0072:\n",
            "----------------------------------------------\n",
            "CustomerID: C0001, Similarity Score: 1.0\n",
            "CustomerID: C0044, Similarity Score: 1.0\n",
            "CustomerID: C0050, Similarity Score: 1.0\n"
          ]
        }
      ]
    },
    {
      "cell_type": "markdown",
      "source": [
        "\n",
        "\n",
        "---\n",
        "\n"
      ],
      "metadata": {
        "id": "aYuMlPTwmbwn"
      }
    }
  ]
}